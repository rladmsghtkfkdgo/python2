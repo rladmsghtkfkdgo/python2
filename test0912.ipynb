{
 "cells": [
  {
   "cell_type": "code",
   "execution_count": 1,
   "metadata": {},
   "outputs": [
    {
     "name": "stdout",
     "output_type": "stream",
     "text": [
      "hi\n"
     ]
    }
   ],
   "source": [
    "print(\"hi\")"
   ]
  },
  {
   "cell_type": "code",
   "execution_count": 1,
   "metadata": {},
   "outputs": [
    {
     "name": "stdout",
     "output_type": "stream",
     "text": [
      "Thankyou.\n"
     ]
    }
   ],
   "source": [
    "#이메일 확인 시스템\n",
    "string = input(\"input e-mail adress:\")\n",
    "if '@' in string:\n",
    "    print(\"Thankyou.\")\n",
    "else:\n",
    "    print(\"Please check your e-mail adress.\")"
   ]
  },
  {
   "cell_type": "code",
   "execution_count": 2,
   "metadata": {},
   "outputs": [
    {
     "name": "stdout",
     "output_type": "stream",
     "text": [
      "result =  18\n"
     ]
    }
   ],
   "source": [
    "#두 수의 사칙연산 프로그램\n",
    "A =int(input(\"first number:\"))\n",
    "B =int(input(\"second number:\"))\n",
    "C =input(\"operater:\")\n",
    "\n",
    "if C== \"+\":\n",
    "    print(\"result = \",A+B)\n",
    "elif C== \"-\":\n",
    "    print(\"result = \",A-B)\n",
    "elif C== \"*\":\n",
    "    print(\"result = \",A*B)\n",
    "elif C== \"/\":\n",
    "    if B!=0:\n",
    "        print(\"result = \",A/B)\n",
    "    else:\n",
    "        print(\"cannot dived by 0\")"
   ]
  },
  {
   "cell_type": "code",
   "execution_count": 3,
   "metadata": {},
   "outputs": [
    {
     "name": "stdout",
     "output_type": "stream",
     "text": [
      "주문수량: 33 총 금액: 99000 할인율: 0.2 결제 금액: 79200.0\n"
     ]
    }
   ],
   "source": [
    "\"\"\"주문량을 입력 받아 주문량에 따른 할인율을 적용하여 주문수량;qty,종금액;tot_price, 할인금액; discount_price, 실제금액 ; net_price를 출력하시오\n",
    "상품의 가격 3000원\n",
    "알인율\n",
    "10~29 10%\n",
    "30~49 20%\n",
    "50~99 30%\n",
    "100개 이상 40% \"\"\"\n",
    "qty = int(input(\"주문수량을 입력하시오:\"))\n",
    "tot_price = qty*3000\n",
    "if 10<=qty<=29:\n",
    "    dis=0.1\n",
    "elif 30<=qty<=49:\n",
    "    dis=0.2\n",
    "elif 50<=qty<=99:\n",
    "    dis=0.3\n",
    "elif 100<=qty:\n",
    "    dis=0.4\n",
    "discount_price=tot_price*dis\n",
    "net_price= tot_price-discount_price\n",
    "print (\"주문수량:\",qty,\"총 금액:\",tot_price,\"할인율:\",dis,\"결제 금액:\",net_price)"
   ]
  },
  {
   "cell_type": "code",
   "execution_count": 4,
   "metadata": {},
   "outputs": [
    {
     "name": "stdout",
     "output_type": "stream",
     "text": [
      "비만\n"
     ]
    }
   ],
   "source": [
    "\"\"\"체중과 키를 입력 받아 BMI지수를 계산한 후 저체중(~ 18.5),정상(185~22.9),과체중(23~24.9),비만(25~)을 판단하고 비만지수와 판단 결과를 출력하시오\n",
    "몸무게(kg)/키(cm)/*키(cm)\"\"\"\n",
    "kg=int(input(\"체중을 입력하시오:\"))\n",
    "cm=int(input(\"키를 입력하시오:\"))\n",
    "BMI=(kg/cm)*cm\n",
    "if BMI<=18.5:\n",
    "    print(\"저체중\")\n",
    "elif 18.6<=BMI<=22.9:\n",
    "    print(\"정상\")\n",
    "elif 23<=BMI<=24.9:\n",
    "    print(\"과체중\")\n",
    "elif BMI>=25:\n",
    "    print(\"비만\")"
   ]
  }
 ],
 "metadata": {
  "kernelspec": {
   "display_name": "Python 3",
   "language": "python",
   "name": "python3"
  },
  "language_info": {
   "codemirror_mode": {
    "name": "ipython",
    "version": 3
   },
   "file_extension": ".py",
   "mimetype": "text/x-python",
   "name": "python",
   "nbconvert_exporter": "python",
   "pygments_lexer": "ipython3",
   "version": "3.12.2"
  }
 },
 "nbformat": 4,
 "nbformat_minor": 2
}
