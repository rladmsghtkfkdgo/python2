{
 "cells": [
  {
   "cell_type": "code",
   "execution_count": 3,
   "metadata": {},
   "outputs": [],
   "source": [
    "from tkinter import *\n",
    "from tkinter import messagebox\n",
    "\n",
    "def func_open() :\n",
    "    messagebox.showinfo(\"메뉴선택\", \"열기 메뉴를 선택했습니다\")\n",
    "\n",
    "def func_exit() :\n",
    "    root.quit()\n",
    "    root.destroy()\n",
    "\n",
    "root=Tk()\n",
    "\n",
    "mainMenu =Menu(root)\n",
    "root.config(menu=mainMenu)\n",
    "\n",
    "fileMenu =Menu(mainMenu)\n",
    "mainMenu.add_cascade(label=\"파일\", menu=fileMenu)\n",
    "fileMenu.add_command(label=\"열기\", command=func_open)\n",
    "fileMenu.add_separator()\n",
    "fileMenu.add_command(label=\"종료\", command=func_exit)\n",
    "\n",
    "root.mainloop()"
   ]
  },
  {
   "cell_type": "code",
   "execution_count": 2,
   "metadata": {},
   "outputs": [],
   "source": [
    "from tkinter import*\n",
    "from tkinter.simpledialog import *\n",
    "\n",
    "root=Tk()\n",
    "root.geometry('200x200')\n",
    "\n",
    "label1=Label(root,text=\"입력된 값\")\n",
    "label1.pack()\n",
    "\n",
    "value = askinteger(\"숫자입력\",\"주사위 숫자(1~6)을 입력하세요\",minvalue=1,maxvalue=6)\n",
    "label1.configure(text=str(value))\n",
    "\n",
    "root.mainloop()"
   ]
  },
  {
   "cell_type": "code",
   "execution_count": 4,
   "metadata": {},
   "outputs": [],
   "source": [
    "from tkinter import *\n",
    "from tkinter.filedialog import *\n",
    "\n",
    "root=Tk()\n",
    "root.geometry('200x200')\n",
    "label1 =Label(root,text=\"선택된 파일이름\")\n",
    "label1.pack()\n",
    "\n",
    "filename=askopenfilename(parent=root, filetypes=((\"JPG 파일\",\"*.jpg\"),(\"모든 파일\",\"*.*\")))\n",
    "label1.configure(text=filename)\n",
    "\n",
    "root.mainloop()"
   ]
  },
  {
   "cell_type": "code",
   "execution_count": 6,
   "metadata": {},
   "outputs": [],
   "source": [
    "from tkinter import *\n",
    "from tkinter.filedialog import *\n",
    "\n",
    "root=Tk()\n",
    "root.geometry('200x200')\n",
    "label1 =Label(root,text=\"선택된 파일이름\")\n",
    "label1.pack()\n",
    "\n",
    "savefname= asksaveasfilename(parent=root, filetypes=((\"JPG 파일\",\"*.jpg\"),(\"모든 파일\",\"*.*\")))\n",
    "label1.configure(text=savefname)\n",
    "\n",
    "root.mainloop()"
   ]
  },
  {
   "cell_type": "code",
   "execution_count": 2,
   "metadata": {},
   "outputs": [
    {
     "ename": "ModuleNotFoundError",
     "evalue": "No module named 'Pmw'",
     "output_type": "error",
     "traceback": [
      "\u001b[1;31m---------------------------------------------------------------------------\u001b[0m",
      "\u001b[1;31mModuleNotFoundError\u001b[0m                       Traceback (most recent call last)",
      "Cell \u001b[1;32mIn[2], line 4\u001b[0m\n\u001b[0;32m      2\u001b[0m \u001b[38;5;28;01mfrom\u001b[39;00m \u001b[38;5;21;01mtkinter\u001b[39;00m\u001b[38;5;21;01m.\u001b[39;00m\u001b[38;5;21;01mfiledialog\u001b[39;00m \u001b[38;5;28;01mimport\u001b[39;00m\u001b[38;5;241m*\u001b[39m\n\u001b[0;32m      3\u001b[0m \u001b[38;5;28;01mfrom\u001b[39;00m \u001b[38;5;21;01mtkinter\u001b[39;00m\u001b[38;5;21;01m.\u001b[39;00m\u001b[38;5;21;01msimpledialog\u001b[39;00m \u001b[38;5;28;01mimport\u001b[39;00m \u001b[38;5;241m*\u001b[39m\n\u001b[1;32m----> 4\u001b[0m \u001b[38;5;28;01mimport\u001b[39;00m \u001b[38;5;21;01mPmw\u001b[39;00m\n\u001b[0;32m      6\u001b[0m \u001b[38;5;28;01mclass\u001b[39;00m \u001b[38;5;21;01mApp\u001b[39;00m:\n\u001b[0;32m      7\u001b[0m     \u001b[38;5;28;01mdef\u001b[39;00m \u001b[38;5;21m__init__\u001b[39m(\u001b[38;5;28mself\u001b[39m,master): \u001b[38;5;28mself\u001b[39m\u001b[38;5;241m.\u001b[39mname \u001b[38;5;241m=\u001b[39mPmw\u001b[38;5;241m.\u001b[39mEntryField(master,\n\u001b[0;32m      8\u001b[0m                                 value\u001b[38;5;241m=\u001b[39m\u001b[38;5;124m'\u001b[39m\u001b[38;5;124m'\u001b[39m,\n\u001b[0;32m      9\u001b[0m                                 label_text \u001b[38;5;241m=\u001b[39m \u001b[38;5;124m'\u001b[39m\u001b[38;5;124m이름\u001b[39m\u001b[38;5;124m'\u001b[39m,\n\u001b[0;32m     10\u001b[0m                                 labelpos \u001b[38;5;241m=\u001b[39m W,\n\u001b[0;32m     11\u001b[0m                                 labelmargin\u001b[38;5;241m=\u001b[39m\u001b[38;5;241m1\u001b[39m)\n",
      "\u001b[1;31mModuleNotFoundError\u001b[0m: No module named 'Pmw'"
     ]
    }
   ],
   "source": [
    "from tkinter import *\n",
    "from tkinter.filedialog import*\n",
    "from tkinter.simpledialog import *\n",
    "import Pmw\n",
    "\n",
    "class App:\n",
    "    def __init__(self,master): self.name =Pmw.EntryField(master,\n",
    "                                value='',\n",
    "                                label_text = '이름',\n",
    "                                labelpos = W,\n",
    "                                labelmargin=1)\n",
    "    self.age =Pmw.EntryField(master,\n",
    "                                value='',\n",
    "                                label_text = '2024현재나이',\n",
    "                                labelpos = W,\n",
    "                                labelmargin=1)\n",
    "    self.name.pack(sideTOP,anchor=W,padx=2,pady=2)\n",
    "    self.age.pack(sideTOP,anchor=W,padx=2,pady=2)\n",
    "    \n",
    "if __name__==\"__main__\":\n",
    "    root =Tk()\n",
    "    root.title(\"개인정보\")\n",
    "    display = App(root)\n",
    "\n",
    "    retName = SimpleDialog.askstring(\n",
    "                                        \"문장입력\",\n",
    "                                        \"이름\"\n",
    "    )\n",
    "    retYear = SimpleDialog.askinteger(\n",
    "                                        \"숫자입력\",\n",
    "                                        \"출생년도\",\n",
    "                                        minvalue=2000,\n",
    "                                        maxvalue=2024\n",
    "    )\n",
    "    display.name.setentry(retName)\n",
    "    display.age.setentry(2024-retYear+1)\n",
    "\n",
    "    Pmw.initialise()\n",
    "    root.mainloop()\n",
    "        \n"
   ]
  },
  {
   "cell_type": "code",
   "execution_count": 3,
   "metadata": {},
   "outputs": [
    {
     "ename": "ModuleNotFoundError",
     "evalue": "No module named 'Pmw'",
     "output_type": "error",
     "traceback": [
      "\u001b[1;31m---------------------------------------------------------------------------\u001b[0m",
      "\u001b[1;31mModuleNotFoundError\u001b[0m                       Traceback (most recent call last)",
      "Cell \u001b[1;32mIn[3], line 3\u001b[0m\n\u001b[0;32m      1\u001b[0m \u001b[38;5;28;01mfrom\u001b[39;00m \u001b[38;5;21;01mtkinter\u001b[39;00m \u001b[38;5;28;01mimport\u001b[39;00m \u001b[38;5;241m*\u001b[39m\n\u001b[0;32m      2\u001b[0m \u001b[38;5;28;01mfrom\u001b[39;00m \u001b[38;5;21;01mtkinter\u001b[39;00m \u001b[38;5;28;01mimport\u001b[39;00m simpledialog\n\u001b[1;32m----> 3\u001b[0m \u001b[38;5;28;01mimport\u001b[39;00m \u001b[38;5;21;01mPmw\u001b[39;00m\n\u001b[0;32m      4\u001b[0m \u001b[38;5;28;01mclass\u001b[39;00m \u001b[38;5;21;01mApp\u001b[39;00m:\n\u001b[0;32m      5\u001b[0m    \u001b[38;5;28;01mdef\u001b[39;00m \u001b[38;5;21m__init__\u001b[39m (\u001b[38;5;28mself\u001b[39m, master):      \n",
      "\u001b[1;31mModuleNotFoundError\u001b[0m: No module named 'Pmw'"
     ]
    }
   ],
   "source": [
    "from tkinter import *\n",
    "from tkinter import simpledialog\n",
    "import Pmw\n",
    "class App:\n",
    "   def __init__ (self, master):      \n",
    "      self.name = Pmw.EntryField(master,\n",
    "                                   value ='', \n",
    "                                   label_text = '이름',\n",
    "                                   labelpos = W, \n",
    "                                   labelmargin=1)      \n",
    "      self.age = Pmw.EntryField(master,\n",
    "                                   value ='', \n",
    "                                   label_text = '2024년 현재 나이',\n",
    "                                   labelpos = W, \n",
    "                                   labelmargin=1)\n",
    "      self.name.pack(side=TOP, anchor = W, padx=2, pady=2)\n",
    "      self.age.pack(side=TOP, anchor = W, padx=2, pady=2)\n",
    "      \n",
    "if __name__ ==\"__main__\":\n",
    "   root = Tk()\n",
    "   root.title(\"개인정보\")\n",
    "   display = App(root)\n",
    "   retName = simpledialog.askstring (\n",
    "                                     \"문장입력\",\n",
    "                                     \"이름\"\n",
    "                                     )\n",
    "   retYear = simpledialog.askinteger ( \"숫자입력\", \n",
    "                                      \"출생년도\", \n",
    "                                      minvalue = 2000,\n",
    "                                      maxvalue = 2024 \n",
    "                                      )                        \n",
    "   display.name.setentry(retName)\n",
    "   display.age.setentry(2024 - retYear + 1)\n",
    "   Pmw.initialise()\n",
    "   root.mainloop()\n"
   ]
  }
 ],
 "metadata": {
  "kernelspec": {
   "display_name": "Python 3",
   "language": "python",
   "name": "python3"
  },
  "language_info": {
   "codemirror_mode": {
    "name": "ipython",
    "version": 3
   },
   "file_extension": ".py",
   "mimetype": "text/x-python",
   "name": "python",
   "nbconvert_exporter": "python",
   "pygments_lexer": "ipython3",
   "version": "3.12.2"
  }
 },
 "nbformat": 4,
 "nbformat_minor": 2
}
