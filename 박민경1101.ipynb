{
 "cells": [
  {
   "cell_type": "code",
   "execution_count": 1,
   "metadata": {},
   "outputs": [
    {
     "ename": "",
     "evalue": "",
     "output_type": "error",
     "traceback": [
      "\u001b[1;31mThe Kernel crashed while executing code in the current cell or a previous cell. \n",
      "\u001b[1;31mPlease review the code in the cell(s) to identify a possible cause of the failure. \n",
      "\u001b[1;31mClick <a href='https://aka.ms/vscodeJupyterKernelCrash'>here</a> for more info. \n",
      "\u001b[1;31mView Jupyter <a href='command:jupyter.viewOutput'>log</a> for further details."
     ]
    }
   ],
   "source": [
    "from tkinter import *\n",
    "from tkinter.filedialog import *\n",
    "\n",
    "def func_open():\n",
    "    filename=askopenfilename(parent=window,filetypes=((\"GIF파일\",\"*.gif\"),(\"모든파일\",\"*.*\")))\n",
    "    photo =PhotoImage(file=filename)\n",
    "    pLabel.configure(image=photo)\n",
    "    pLabel.image=photo\n",
    "\n",
    "def func_exit():\n",
    "    window.quit()\n",
    "    window.destroy()\n",
    "\n",
    "window=Tk()\n",
    "window.geometry(\"400x400\")\n",
    "window.title(\"명화 감상하기\")\n",
    "\n",
    "photo=PhotoImage()\n",
    "pLabel=Label(window, image =photo)\n",
    "pLabel.pack(expand=1, anchor =CENTER)\n",
    "\n",
    "mainMenu=Menu(window)\n",
    "window.config(menu=mainMenu)\n",
    "fileMenu=Menu(mainMenu)\n",
    "mainMenu.add_cascade(label=\"파일\",menu=fileMenu)\n",
    "fileMenu.add_command(label=\"파일 열기\",command=func_open)\n",
    "fileMenu.add_separator()\n",
    "fileMenu.add_command(label=\"프로그램 종료\",command=func_exit)\n",
    "\n",
    "window.mainloop()"
   ]
  }
 ],
 "metadata": {
  "kernelspec": {
   "display_name": "Python 3",
   "language": "python",
   "name": "python3"
  },
  "language_info": {
   "codemirror_mode": {
    "name": "ipython",
    "version": 3
   },
   "file_extension": ".py",
   "mimetype": "text/x-python",
   "name": "python",
   "nbconvert_exporter": "python",
   "pygments_lexer": "ipython3",
   "version": "3.12.2"
  }
 },
 "nbformat": 4,
 "nbformat_minor": 2
}
