{
 "cells": [
  {
   "cell_type": "markdown",
   "metadata": {},
   "source": [
    "두 변수의 값을 교환하는 프로그램 (반드시 함수 사용)"
   ]
  },
  {
   "cell_type": "code",
   "execution_count": 3,
   "metadata": {},
   "outputs": [
    {
     "name": "stdout",
     "output_type": "stream",
     "text": [
      "11 12\n",
      "11 12\n"
     ]
    }
   ],
   "source": [
    "#리턴값있는경우\n",
    "def first(x,y):\n",
    "    print(x,y)\n",
    "    return x,y\n",
    "x=11\n",
    "y=12\n",
    "first(x,y)\n",
    "print(x,y)"
   ]
  },
  {
   "cell_type": "code",
   "execution_count": 4,
   "metadata": {},
   "outputs": [
    {
     "name": "stdout",
     "output_type": "stream",
     "text": [
      "11 12\n",
      "11 12\n"
     ]
    }
   ],
   "source": [
    "#리턴값없는경우\n",
    "def first(x,y):\n",
    "    print(x,y)\n",
    "x=11\n",
    "y=12\n",
    "first(x,y)\n",
    "print(x,y)"
   ]
  },
  {
   "cell_type": "code",
   "execution_count": 6,
   "metadata": {},
   "outputs": [
    {
     "name": "stdout",
     "output_type": "stream",
     "text": [
      "13\n",
      "13\n"
     ]
    }
   ],
   "source": [
    "def fuck(b):\n",
    "    global a\n",
    "    a=b+10\n",
    "    return a\n",
    "a=5\n",
    "c=fuck(3)\n",
    "print(c)\n",
    "print(a)"
   ]
  },
  {
   "cell_type": "code",
   "execution_count": 10,
   "metadata": {},
   "outputs": [
    {
     "name": "stdout",
     "output_type": "stream",
     "text": [
      "졸려\n",
      "집갈래\n",
      "나갈래~~\n",
      "\n",
      "졸려\n",
      "집갈래\n",
      "나갈래~~\n",
      "\n",
      "졸려\n",
      "집갈래\n",
      "나갈래~~\n",
      "\n"
     ]
    }
   ],
   "source": [
    "def pri_n_t(n, *values):\n",
    "    for i in range(n):\n",
    "        for value in values:\n",
    "            print(value)\n",
    "        print()\n",
    "pri_n_t(3,\"졸려\",\"집갈래\",\"나갈래~~\")"
   ]
  },
  {
   "cell_type": "code",
   "execution_count": 11,
   "metadata": {},
   "outputs": [
    {
     "name": "stdout",
     "output_type": "stream",
     "text": [
      "A. 50500\n",
      "B. 500500\n",
      "C. 250500\n"
     ]
    }
   ],
   "source": [
    "def fin(start=0, end=1000, step=1):\n",
    "    output=0\n",
    "    for i in range(start, end+1,step):\n",
    "        output+=i\n",
    "    return output\n",
    "print(\"A.\",fin(0,1000,10))\n",
    "print(\"B.\",fin(end=1000))\n",
    "print(\"C.\",fin(end=1000, step=2))"
   ]
  },
  {
   "cell_type": "markdown",
   "metadata": {},
   "source": [
    "딕셔너리 생성 (단, 딕셔너리 날짜 키값 입력받음)"
   ]
  },
  {
   "cell_type": "markdown",
   "metadata": {},
   "source": [
    "dict={\"10/26\" : [100,130,100,100],\"10/27\" : [10,12,10,11]}"
   ]
  },
  {
   "cell_type": "code",
   "execution_count": null,
   "metadata": {},
   "outputs": [],
   "source": [
    "dict={}\n",
    "input\n",
    "def AC(dict, key):\n",
    "    print(dict[key])\n",
    "AC (dict,\"10/26\")"
   ]
  },
  {
   "cell_type": "markdown",
   "metadata": {},
   "source": [
    "아래의 거래금액의 데이터를 이용하여 수수료 0.014%를 계산하여 한라인에 하나씩 출력"
   ]
  },
  {
   "cell_type": "code",
   "execution_count": 14,
   "metadata": {},
   "outputs": [
    {
     "name": "stdout",
     "output_type": "stream",
     "text": [
      "2000.28\n",
      "3050.427\n",
      "2050.2870000000003\n",
      "1980.2772\n",
      "---------------\n",
      "7501.05\n",
      "2050.2870000000003\n",
      "2050.2870000000003\n",
      "1980.2772\n",
      "---------------\n",
      "15452.163\n",
      "15052.107\n",
      "15552.177\n",
      "14902.086000000001\n",
      "---------------\n"
     ]
    }
   ],
   "source": [
    "data=[[2000,3050,2050,1980],[7500,2050,2050,1980],[15450,15050,15550,14900]]\n",
    "for line in data:\n",
    "    for column in line:\n",
    "        print(column*1.00014)\n",
    "    print(\"---------------\")"
   ]
  },
  {
   "cell_type": "code",
   "execution_count": 15,
   "metadata": {},
   "outputs": [
    {
     "name": "stdout",
     "output_type": "stream",
     "text": [
      "[2000.28, 3050.427, 2050.2870000000003, 1980.2772, 7501.05, 2050.2870000000003, 2050.2870000000003, 1980.2772, 15452.163, 15052.107, 15552.177, 14902.086000000001]\n"
     ]
    }
   ],
   "source": [
    "#1차원으로\n",
    "result=[]\n",
    "for line in data:\n",
    "    for column in line:\n",
    "        result.append(column*1.00014)\n",
    "print(result)"
   ]
  },
  {
   "cell_type": "code",
   "execution_count": 16,
   "metadata": {},
   "outputs": [
    {
     "name": "stdout",
     "output_type": "stream",
     "text": [
      "[15452.163, [], 15052.107, [], 15552.177, [], 14902.086000000001, [], 15452.163, [], 15052.107, [], 15552.177, [], 14902.086000000001, [], 15452.163, [], 15052.107, [], 15552.177, [], 14902.086000000001, []]\n"
     ]
    }
   ],
   "source": [
    "#2차원으로\n",
    "result=[]\n",
    "for sline in data:\n",
    "    sline=[]\n",
    "    for column in line:\n",
    "        result.append(column*1.00014)\n",
    "        result.append(sline)\n",
    "print(result)"
   ]
  }
 ],
 "metadata": {
  "kernelspec": {
   "display_name": "Python 3",
   "language": "python",
   "name": "python3"
  },
  "language_info": {
   "codemirror_mode": {
    "name": "ipython",
    "version": 3
   },
   "file_extension": ".py",
   "mimetype": "text/x-python",
   "name": "python",
   "nbconvert_exporter": "python",
   "pygments_lexer": "ipython3",
   "version": "3.12.2"
  }
 },
 "nbformat": 4,
 "nbformat_minor": 2
}
