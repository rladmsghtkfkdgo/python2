{
 "cells": [
  {
   "cell_type": "markdown",
   "metadata": {},
   "source": [
    "두 변수의 값을 교환하는 프로그램 (반드시 함수 사용)"
   ]
  },
  {
   "cell_type": "code",
   "execution_count": 3,
   "metadata": {},
   "outputs": [
    {
     "name": "stdout",
     "output_type": "stream",
     "text": [
      "11 12\n",
      "11 12\n"
     ]
    }
   ],
   "source": [
    "#리턴값있는경우\n",
    "def first(x,y):\n",
    "    print(x,y)\n",
    "    return x,y\n",
    "x=11\n",
    "y=12\n",
    "first(x,y)\n",
    "print(x,y)"
   ]
  },
  {
   "cell_type": "code",
   "execution_count": 4,
   "metadata": {},
   "outputs": [
    {
     "name": "stdout",
     "output_type": "stream",
     "text": [
      "11 12\n",
      "11 12\n"
     ]
    }
   ],
   "source": [
    "#리턴값없는경우\n",
    "def first(x,y):\n",
    "    print(x,y)\n",
    "x=11\n",
    "y=12\n",
    "first(x,y)\n",
    "print(x,y)"
   ]
  },
  {
   "cell_type": "code",
   "execution_count": 6,
   "metadata": {},
   "outputs": [
    {
     "name": "stdout",
     "output_type": "stream",
     "text": [
      "13\n",
      "13\n"
     ]
    }
   ],
   "source": [
    "def fuck(b):\n",
    "    global a\n",
    "    a=b+10\n",
    "    return a\n",
    "a=5\n",
    "c=fuck(3)\n",
    "print(c)\n",
    "print(a)"
   ]
  },
  {
   "cell_type": "code",
   "execution_count": 10,
   "metadata": {},
   "outputs": [
    {
     "name": "stdout",
     "output_type": "stream",
     "text": [
      "졸려\n",
      "집갈래\n",
      "나갈래~~\n",
      "\n",
      "졸려\n",
      "집갈래\n",
      "나갈래~~\n",
      "\n",
      "졸려\n",
      "집갈래\n",
      "나갈래~~\n",
      "\n"
     ]
    }
   ],
   "source": [
    "def pri_n_t(n, *values):\n",
    "    for i in range(n):\n",
    "        for value in values:\n",
    "            print(value)\n",
    "        print()\n",
    "pri_n_t(3,\"졸려\",\"집갈래\",\"나갈래~~\")"
   ]
  },
  {
   "cell_type": "code",
   "execution_count": 11,
   "metadata": {},
   "outputs": [
    {
     "name": "stdout",
     "output_type": "stream",
     "text": [
      "A. 50500\n",
      "B. 500500\n",
      "C. 250500\n"
     ]
    }
   ],
   "source": [
    "def fin(start=0, end=1000, step=1):\n",
    "    output=0\n",
    "    for i in range(start, end+1,step):\n",
    "        output+=i\n",
    "    return output\n",
    "print(\"A.\",fin(0,1000,10))\n",
    "print(\"B.\",fin(end=1000))\n",
    "print(\"C.\",fin(end=1000, step=2))"
   ]
  },
  {
   "cell_type": "markdown",
   "metadata": {},
   "source": [
    "딕셔너리 생성 (단, 딕셔너리 날짜 키값 입력받음)"
   ]
  },
  {
   "cell_type": "markdown",
   "metadata": {},
   "source": [
    "dict={\"10/26\" : [100,130,100,100],\"10/27\" : [10,12,10,11]}"
   ]
  },
  {
   "cell_type": "code",
   "execution_count": null,
   "metadata": {},
   "outputs": [],
   "source": [
    "dict={}\n",
    "input\n",
    "def AC(dict, key):\n",
    "    print(dict[key])\n",
    "AC (dict,\"10/26\")"
   ]
  },
  {
   "cell_type": "markdown",
   "metadata": {},
   "source": [
    "아래의 거래금액의 데이터를 이용하여 수수료 0.014%를 계산하여 한라인에 하나씩 출력"
   ]
  },
  {
   "cell_type": "code",
   "execution_count": 14,
   "metadata": {},
   "outputs": [
    {
     "name": "stdout",
     "output_type": "stream",
     "text": [
      "2000.28\n",
      "3050.427\n",
      "2050.2870000000003\n",
      "1980.2772\n",
      "---------------\n",
      "7501.05\n",
      "2050.2870000000003\n",
      "2050.2870000000003\n",
      "1980.2772\n",
      "---------------\n",
      "15452.163\n",
      "15052.107\n",
      "15552.177\n",
      "14902.086000000001\n",
      "---------------\n"
     ]
    }
   ],
   "source": [
    "data=[[2000,3050,2050,1980],[7500,2050,2050,1980],[15450,15050,15550,14900]]\n",
    "for line in data:\n",
    "    for column in line:\n",
    "        print(column*1.00014)\n",
    "    print(\"---------------\")"
   ]
  },
  {
   "cell_type": "code",
   "execution_count": 15,
   "metadata": {},
   "outputs": [
    {
     "name": "stdout",
     "output_type": "stream",
     "text": [
      "[2000.28, 3050.427, 2050.2870000000003, 1980.2772, 7501.05, 2050.2870000000003, 2050.2870000000003, 1980.2772, 15452.163, 15052.107, 15552.177, 14902.086000000001]\n"
     ]
    }
   ],
   "source": [
    "#1차원으로\n",
    "result=[]\n",
    "for line in data:\n",
    "    for column in line:\n",
    "        result.append(column*1.00014)\n",
    "print(result)"
   ]
  },
  {
   "cell_type": "code",
   "execution_count": 16,
   "metadata": {},
   "outputs": [
    {
     "name": "stdout",
     "output_type": "stream",
     "text": [
      "[15452.163, [], 15052.107, [], 15552.177, [], 14902.086000000001, [], 15452.163, [], 15052.107, [], 15552.177, [], 14902.086000000001, [], 15452.163, [], 15052.107, [], 15552.177, [], 14902.086000000001, []]\n"
     ]
    }
   ],
   "source": [
    "#2차원으로\n",
    "result=[]\n",
    "for sline in data:\n",
    "    sline=[]\n",
    "    for column in line:\n",
    "        result.append(column*1.00014)\n",
    "        result.append(sline)\n",
    "print(result)"
   ]
  },
  {
   "cell_type": "markdown",
   "metadata": {},
   "source": [
    "평문암호화/복호화"
   ]
  },
  {
   "cell_type": "code",
   "execution_count": 5,
   "metadata": {},
   "outputs": [
    {
     "ename": "TypeError",
     "evalue": "can only concatenate str (not \"int\") to str",
     "output_type": "error",
     "traceback": [
      "\u001b[1;31m---------------------------------------------------------------------------\u001b[0m",
      "\u001b[1;31mValueError\u001b[0m                                Traceback (most recent call last)",
      "Cell \u001b[1;32mIn[5], line 7\u001b[0m, in \u001b[0;36mencrypt\u001b[1;34m(n, ciphertext)\u001b[0m\n\u001b[0;32m      6\u001b[0m \u001b[38;5;28;01mtry\u001b[39;00m:\n\u001b[1;32m----> 7\u001b[0m     i\u001b[38;5;241m=\u001b[39m(\u001b[43mkey\u001b[49m\u001b[38;5;241;43m.\u001b[39;49m\u001b[43mindex\u001b[49m\u001b[43m(\u001b[49m\u001b[43ml\u001b[49m\u001b[43m)\u001b[49m\u001b[38;5;241m+\u001b[39mn)\u001b[38;5;241m%\u001b[39m\u001b[38;5;241m26\u001b[39m\n\u001b[0;32m      8\u001b[0m     result \u001b[38;5;241m+\u001b[39m\u001b[38;5;241m=\u001b[39mkey[i]\n",
      "\u001b[1;31mValueError\u001b[0m: substring not found",
      "\nDuring handling of the above exception, another exception occurred:\n",
      "\u001b[1;31mTypeError\u001b[0m                                 Traceback (most recent call last)",
      "Cell \u001b[1;32mIn[5], line 26\u001b[0m\n\u001b[0;32m     24\u001b[0m n \u001b[38;5;241m=\u001b[39m \u001b[38;5;241m3\u001b[39m\n\u001b[0;32m     25\u001b[0m text \u001b[38;5;241m=\u001b[39m \u001b[38;5;124m'\u001b[39m\u001b[38;5;124mThe language of truth is simple.\u001b[39m\u001b[38;5;124m'\u001b[39m\n\u001b[1;32m---> 26\u001b[0m encrypted \u001b[38;5;241m=\u001b[39m \u001b[43mencrypt\u001b[49m\u001b[43m(\u001b[49m\u001b[43mn\u001b[49m\u001b[43m,\u001b[49m\u001b[43m \u001b[49m\u001b[43mtext\u001b[49m\u001b[43m)\u001b[49m\n\u001b[0;32m     27\u001b[0m decrypted \u001b[38;5;241m=\u001b[39m decrypt(n, encrypted)\n\u001b[0;32m     28\u001b[0m \u001b[38;5;28mprint\u001b[39m (\u001b[38;5;124m'\u001b[39m\u001b[38;5;124m평문: \u001b[39m\u001b[38;5;124m'\u001b[39m ,  text)\n",
      "Cell \u001b[1;32mIn[5], line 10\u001b[0m, in \u001b[0;36mencrypt\u001b[1;34m(n, ciphertext)\u001b[0m\n\u001b[0;32m      8\u001b[0m         result \u001b[38;5;241m+\u001b[39m\u001b[38;5;241m=\u001b[39mkey[i]\n\u001b[0;32m      9\u001b[0m     \u001b[38;5;28;01mexcept\u001b[39;00m \u001b[38;5;167;01mValueError\u001b[39;00m:\n\u001b[1;32m---> 10\u001b[0m        \u001b[43mresult\u001b[49m\u001b[43m \u001b[49m\u001b[38;5;241;43m+\u001b[39;49m\u001b[38;5;241;43m=\u001b[39;49m\u001b[38;5;241;43m1\u001b[39;49m\n\u001b[0;32m     11\u001b[0m \u001b[38;5;28;01mreturn\u001b[39;00m result\u001b[38;5;241m.\u001b[39mlower()\n",
      "\u001b[1;31mTypeError\u001b[0m: can only concatenate str (not \"int\") to str"
     ]
    }
   ],
   "source": [
    "key = 'abcdefghijklmnopqrstuvwxyz'\n",
    "def encrypt(n, ciphertext):\n",
    "    result = ''\n",
    "\n",
    "    for l in ciphertext.lower():\n",
    "        try:\n",
    "            i=(key.index(l)+n)%26\n",
    "            result +=key[i]\n",
    "        except ValueError:\n",
    "           result +=1\n",
    "    return result.lower()\n",
    "\n",
    "def decrypt(n, ciphertext):\n",
    "    result = ''\n",
    "\n",
    "    for l in ciphertext.lower():\n",
    "        try:\n",
    "            i=(key.index(l)-n)%26\n",
    "            result +=key[i]\n",
    "        except ValueError:\n",
    "           result +=1\n",
    "    return result.lower()\n",
    "\n",
    "n = 3\n",
    "text = 'The language of truth is simple.'\n",
    "encrypted = encrypt(n, text)\n",
    "decrypted = decrypt(n, encrypted)\n",
    "print ('평문: ' ,  text)\n",
    "print ('암호문: ',  encrypted)"
   ]
  },
  {
   "cell_type": "markdown",
   "metadata": {},
   "source": []
  },
  {
   "cell_type": "code",
   "execution_count": 7,
   "metadata": {},
   "outputs": [
    {
     "name": "stdout",
     "output_type": "stream",
     "text": [
      "human: dicenumber= 3\n",
      "computer: dicenumber= 4\n",
      "computer win\n",
      "human: dicenumber= 6\n",
      "computer: dicenumber= 2\n",
      "human win\n"
     ]
    }
   ],
   "source": [
    "import random\n",
    "\n",
    "def dice_game() :\n",
    "    human = random.randint(1,6)\n",
    "    print(\"human: dicenumber=\", human)\n",
    "    ai = random.randint(1,6)\n",
    "    print(\"computer: dicenumber=\", ai)\n",
    "    if human >ai :\n",
    "        print(\"human win\")\n",
    "    else:\n",
    "        print(\"computer win\")\n",
    "\n",
    "def main():\n",
    "    while True:\n",
    "\n",
    "        user =input(\"중단할까요?Y/N\")\n",
    "        if user ==\"Y\" or user ==\"y\":\n",
    "            break;\n",
    "        dice_game()\n",
    "main()"
   ]
  }
 ],
 "metadata": {
  "kernelspec": {
   "display_name": "Python 3",
   "language": "python",
   "name": "python3"
  },
  "language_info": {
   "codemirror_mode": {
    "name": "ipython",
    "version": 3
   },
   "file_extension": ".py",
   "mimetype": "text/x-python",
   "name": "python",
   "nbconvert_exporter": "python",
   "pygments_lexer": "ipython3",
   "version": "3.12.2"
  }
 },
 "nbformat": 4,
 "nbformat_minor": 2
}
