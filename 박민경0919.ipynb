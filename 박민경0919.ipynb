{
 "cells": [
  {
   "cell_type": "markdown",
   "metadata": {},
   "source": [
    "while문 연습(1)"
   ]
  },
  {
   "cell_type": "code",
   "execution_count": 4,
   "metadata": {},
   "outputs": [
    {
     "name": "stdout",
     "output_type": "stream",
     "text": [
      "avg: 0.5\n",
      "avg: 1.0\n"
     ]
    }
   ],
   "source": [
    "sum = 0\n",
    "n=int(input())\n",
    "i=1\n",
    "while i <= n:\n",
    "    i+= 1\n",
    "    sum=sum+1\n",
    "    avg=sum/n\n",
    "    print(\"avg:\",avg)"
   ]
  },
  {
   "cell_type": "markdown",
   "metadata": {},
   "source": [
    "while문 연습(2)"
   ]
  },
  {
   "cell_type": "code",
   "execution_count": 12,
   "metadata": {},
   "outputs": [
    {
     "name": "stdout",
     "output_type": "stream",
     "text": [
      "avg: 0.0 n: 2\n"
     ]
    }
   ],
   "source": [
    "sum = 0\n",
    "n=int(input(\"숫자들의 갯수:\"))\n",
    "i=1\n",
    "while i <= n:\n",
    "    num=int(input(\"평균을 계산할숫자 입력:\"))\n",
    "    i+= 1\n",
    "    sum=sum+sum\n",
    "avg=sum/n\n",
    "print(\"avg:\",avg,\"n:\",n)"
   ]
  },
  {
   "cell_type": "markdown",
   "metadata": {},
   "source": [
    "점수를 입력 받아 총점과 평균을 계산하여 출력하시오.\n",
    "   점수가 음수로 입력되면 while문 종료/리스트 활용으로 바꿔보기"
   ]
  },
  {
   "cell_type": "code",
   "execution_count": 22,
   "metadata": {},
   "outputs": [
    {
     "name": "stdout",
     "output_type": "stream",
     "text": [
      "입력된 점수 회수는 : 4 총점은 210 평균은 : 52.5\n"
     ]
    }
   ],
   "source": [
    "score=int(input(\"점수를 입력하시오:\"))\n",
    "sum=0\n",
    "avg=0\n",
    "cnt=0\n",
    "while score>=0:\n",
    "   sum +=score\n",
    "   cnt+=1\n",
    "   score=int(input(\"점수를 입력하시오\"))\n",
    "if cnt == 0:\n",
    "   avg=0\n",
    "else:\n",
    "   avg=sum/cnt\n",
    "print(\"입력된 점수 회수는 :\",cnt, \"총점은\",sum,\"평균은 :\",avg)"
   ]
  },
  {
   "cell_type": "markdown",
   "metadata": {},
   "source": [
    "1~100 사이의 짝수를 1행에 5개씩 출력/for문 사용"
   ]
  },
  {
   "cell_type": "code",
   "execution_count": 4,
   "metadata": {},
   "outputs": [
    {
     "name": "stdout",
     "output_type": "stream",
     "text": [
      "2 4 6 8 10 \n",
      "12 14 16 18 20 \n",
      "22 24 26 28 30 \n",
      "32 34 36 38 40 \n",
      "42 44 46 48 50 \n",
      "52 54 56 58 60 \n",
      "62 64 66 68 70 \n",
      "72 74 76 78 80 \n",
      "82 84 86 88 90 \n",
      "92 94 96 98 100 \n"
     ]
    }
   ],
   "source": [
    "for i in range(100):\n",
    "    i+=1\n",
    "    if i%2==0:\n",
    "        print(i,end=\" \")\n",
    "        if i % 10==0:\n",
    "            print()\n"
   ]
  },
  {
   "cell_type": "markdown",
   "metadata": {},
   "source": [
    "프로그랩이 시작되면 \"구구단 몇단을 출력할까요?\"가 출력\n",
    "사용자는 계산하고자 하는 단을 입력\n",
    "*반복하게 바꿔놓기"
   ]
  },
  {
   "cell_type": "code",
   "execution_count": 5,
   "metadata": {},
   "outputs": [
    {
     "name": "stdout",
     "output_type": "stream",
     "text": [
      "9 단을 출력하겠습니다.\n",
      "9\n",
      "18\n",
      "27\n",
      "36\n",
      "45\n",
      "54\n",
      "63\n",
      "72\n",
      "81\n"
     ]
    }
   ],
   "source": [
    "num=int(input(\"구구단 몇단을 출력할까요?\"))\n",
    "print(num,\"단을 출력하겠습니다.\")\n",
    "for i in range(9):\n",
    "    i+=1\n",
    "    print(i*num)\n"
   ]
  },
  {
   "cell_type": "markdown",
   "metadata": {},
   "source": [
    "(1) 완성하기"
   ]
  },
  {
   "cell_type": "code",
   "execution_count": 10,
   "metadata": {},
   "outputs": [
    {
     "name": "stdout",
     "output_type": "stream",
     "text": [
      "one 문자\n",
      "8 숫자\n",
      "twenty 문자\n",
      "40 숫자\n"
     ]
    }
   ],
   "source": [
    "ages=['one',8,'twenty', 40]\n",
    "for age in ages:\n",
    "    if type(age)==int:\n",
    "        print(age,\"숫자\")\n",
    "    else:\n",
    "        print(age,\"문자\")"
   ]
  },
  {
   "cell_type": "markdown",
   "metadata": {},
   "source": [
    "(2)완성하기\n",
    "'test'를 5회 출력하시오"
   ]
  },
  {
   "cell_type": "code",
   "execution_count": 11,
   "metadata": {},
   "outputs": [
    {
     "name": "stdout",
     "output_type": "stream",
     "text": [
      "test test test test test "
     ]
    }
   ],
   "source": [
    "test='5'\n",
    "for i in range(int(test)):\n",
    "    print('test',end=\" \")"
   ]
  }
 ],
 "metadata": {
  "kernelspec": {
   "display_name": "Python 3",
   "language": "python",
   "name": "python3"
  },
  "language_info": {
   "codemirror_mode": {
    "name": "ipython",
    "version": 3
   },
   "file_extension": ".py",
   "mimetype": "text/x-python",
   "name": "python",
   "nbconvert_exporter": "python",
   "pygments_lexer": "ipython3",
   "version": "3.12.2"
  }
 },
 "nbformat": 4,
 "nbformat_minor": 2
}
