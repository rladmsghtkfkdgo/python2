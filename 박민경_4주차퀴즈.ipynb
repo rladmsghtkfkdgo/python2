{
 "cells": [
  {
   "cell_type": "markdown",
   "metadata": {},
   "source": [
    "10진수를 2진수로 변환"
   ]
  },
  {
   "cell_type": "code",
   "execution_count": 7,
   "metadata": {},
   "outputs": [
    {
     "name": "stdout",
     "output_type": "stream",
     "text": [
      "10진수: 20\n",
      "2진수: 10100\n"
     ]
    }
   ],
   "source": [
    "def deci2bin(n):\n",
    "    binary =\"\"\n",
    "    while n!=0:\n",
    "        value=n%2\n",
    "        binary=str(value)+binary\n",
    "        n=n//2\n",
    "    return binary\n",
    "x=int(input(\"10진수: \"))\n",
    "print(\"10진수:\",x)\n",
    "print(\"2진수:\",deci2bin(x))"
   ]
  },
  {
   "cell_type": "markdown",
   "metadata": {},
   "source": [
    "주사위 값을 랜덤으로 인간,컴퓨터 두개의 값을 생성 후 승패결과를 출력(메시지에n입력할때까지 반복)"
   ]
  },
  {
   "cell_type": "code",
   "execution_count": 11,
   "metadata": {},
   "outputs": [
    {
     "name": "stdout",
     "output_type": "stream",
     "text": [
      "사람:주사위값= 3\n",
      "컴퓨터:주사위값= 5\n",
      "사람 승\n",
      "사람:주사위값= 3\n",
      "컴퓨터:주사위값= 2\n",
      "컴퓨터 승\n"
     ]
    }
   ],
   "source": [
    "\n",
    "import random\n",
    "\n",
    "def dice_game() :\n",
    "    h=random.randint(1,6)\n",
    "    print(\"사람:주사위값=\",h)\n",
    "\n",
    "    c=random.randint(1,6)\n",
    "    print(\"컴퓨터:주사위값=\",c)\n",
    "    if h>c:\n",
    "        print(\"컴퓨터 승\")\n",
    "    else:\n",
    "        print(\"사람 승\")\n",
    "\n",
    "\n",
    "\n",
    "def main() :\n",
    "    while True:\n",
    "\n",
    "        user = input(\"중단할까요? Y/N\")\n",
    "        if user == \"Y\" or user == \"y\":\n",
    "            break;\n",
    "        else:\n",
    "            dice_game()\n",
    "main()"
   ]
  }
 ],
 "metadata": {
  "kernelspec": {
   "display_name": "Python 3",
   "language": "python",
   "name": "python3"
  },
  "language_info": {
   "codemirror_mode": {
    "name": "ipython",
    "version": 3
   },
   "file_extension": ".py",
   "mimetype": "text/x-python",
   "name": "python",
   "nbconvert_exporter": "python",
   "pygments_lexer": "ipython3",
   "version": "3.12.2"
  }
 },
 "nbformat": 4,
 "nbformat_minor": 2
}
